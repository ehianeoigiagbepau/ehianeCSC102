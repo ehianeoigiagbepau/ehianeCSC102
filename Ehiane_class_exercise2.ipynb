{
 "cells": [
  {
   "cell_type": "markdown",
   "metadata": {},
   "source": [
    "# Problem 1"
   ]
  },
  {
   "cell_type": "code",
   "execution_count": 3,
   "metadata": {},
   "outputs": [
    {
     "name": "stdout",
     "output_type": "stream",
     "text": [
      "please enter number 1:2\n",
      "please enter number 2:5\n",
      "Even\n",
      "odd\n"
     ]
    }
   ],
   "source": [
    "a = int(input('please enter number 1:'))\n",
    "b = int(input('please enter number 2:'))\n",
    "if a % 2== 0:\n",
    "    print('Even')\n",
    "else:\n",
    "    print('odd')\n",
    "if b % 2== 0:\n",
    "    print('Even')\n",
    "else:\n",
    "    print('odd')\n"
   ]
  },
  {
   "cell_type": "markdown",
   "metadata": {},
   "source": [
    "# Problem 2"
   ]
  },
  {
   "cell_type": "code",
   "execution_count": 5,
   "metadata": {},
   "outputs": [
    {
     "name": "stdout",
     "output_type": "stream",
     "text": [
      "please enter number 1:2\n",
      "please enter number 2:3\n",
      "Odd\n",
      "Player with odd wins\n"
     ]
    }
   ],
   "source": [
    "q = int(input('please enter number 1:'))\n",
    "r = int(input('please enter number 2:'))\n",
    "s = q + r\n",
    "Even = 'Even'\n",
    "Odd = 'Odd'\n",
    "if s % 2 == 0:\n",
    "    print(Even)\n",
    "else: \n",
    "    print(Odd)\n",
    "if s == Even:\n",
    "    print ('Player with even wiins')\n",
    "else:\n",
    "    print('Player with odd wins')"
   ]
  },
  {
   "cell_type": "markdown",
   "metadata": {},
   "source": [
    "# Problem 3"
   ]
  },
  {
   "cell_type": "code",
   "execution_count": 7,
   "metadata": {},
   "outputs": [],
   "source": [
    " import pandas as pan"
   ]
  },
  {
   "cell_type": "code",
   "execution_count": 20,
   "metadata": {},
   "outputs": [],
   "source": [
    "RnD_Spend = [26,55,67,78,33,45,34,76,89,90]\n",
    "Administrator = [12111,12311,13411,14511,15611,16711,17811,18911,19011,10911]\n",
    "Marketing_Spend = [9876,9765,3245,1425,6745,9745,4562,2563,8452,1423]\n",
    "State = ['New York', 'California', 'Florida','New York', 'California', 'Florida','New York', 'California','Florida','New York']\n",
    "Profit = [1345678,123456,123456,1234567,76543,987654,98765,456743,73823,87652,]\n"
   ]
  },
  {
   "cell_type": "code",
   "execution_count": 21,
   "metadata": {},
   "outputs": [],
   "source": [
    "data = {'RnD_Spend: ':RnD_Spend,'Administrator :' : Administrator,'Marketing_Spend :' : Marketing_Spend,'State :' : State,'Profit :' : Profit}"
   ]
  },
  {
   "cell_type": "code",
   "execution_count": 22,
   "metadata": {},
   "outputs": [
    {
     "data": {
      "text/plain": [
       "{'RnD_Spend: ': [26, 55, 67, 78, 33, 45, 34, 76, 89, 90],\n",
       " 'Administrator :': [12111,\n",
       "  12311,\n",
       "  13411,\n",
       "  14511,\n",
       "  15611,\n",
       "  16711,\n",
       "  17811,\n",
       "  18911,\n",
       "  19011,\n",
       "  10911],\n",
       " 'Marketing_Spend :': [9876,\n",
       "  9765,\n",
       "  3245,\n",
       "  1425,\n",
       "  6745,\n",
       "  9745,\n",
       "  4562,\n",
       "  2563,\n",
       "  8452,\n",
       "  1423],\n",
       " 'State :': ['New York',\n",
       "  'California',\n",
       "  'Florida',\n",
       "  'New York',\n",
       "  'California',\n",
       "  'Florida',\n",
       "  'New York',\n",
       "  'California',\n",
       "  'Florida',\n",
       "  'New York'],\n",
       " 'Profit :': [1345678,\n",
       "  123456,\n",
       "  123456,\n",
       "  1234567,\n",
       "  76543,\n",
       "  987654,\n",
       "  98765,\n",
       "  456743,\n",
       "  73823,\n",
       "  87652]}"
      ]
     },
     "execution_count": 22,
     "metadata": {},
     "output_type": "execute_result"
    }
   ],
   "source": [
    "data"
   ]
  },
  {
   "cell_type": "code",
   "execution_count": 23,
   "metadata": {},
   "outputs": [],
   "source": [
    "data = pan.DataFrame(data)"
   ]
  },
  {
   "cell_type": "code",
   "execution_count": 24,
   "metadata": {},
   "outputs": [
    {
     "data": {
      "text/html": [
       "<div>\n",
       "<style scoped>\n",
       "    .dataframe tbody tr th:only-of-type {\n",
       "        vertical-align: middle;\n",
       "    }\n",
       "\n",
       "    .dataframe tbody tr th {\n",
       "        vertical-align: top;\n",
       "    }\n",
       "\n",
       "    .dataframe thead th {\n",
       "        text-align: right;\n",
       "    }\n",
       "</style>\n",
       "<table border=\"1\" class=\"dataframe\">\n",
       "  <thead>\n",
       "    <tr style=\"text-align: right;\">\n",
       "      <th></th>\n",
       "      <th>RnD_Spend:</th>\n",
       "      <th>Administrator :</th>\n",
       "      <th>Marketing_Spend :</th>\n",
       "      <th>State :</th>\n",
       "      <th>Profit :</th>\n",
       "    </tr>\n",
       "  </thead>\n",
       "  <tbody>\n",
       "    <tr>\n",
       "      <th>0</th>\n",
       "      <td>26</td>\n",
       "      <td>12111</td>\n",
       "      <td>9876</td>\n",
       "      <td>New York</td>\n",
       "      <td>1345678</td>\n",
       "    </tr>\n",
       "    <tr>\n",
       "      <th>1</th>\n",
       "      <td>55</td>\n",
       "      <td>12311</td>\n",
       "      <td>9765</td>\n",
       "      <td>California</td>\n",
       "      <td>123456</td>\n",
       "    </tr>\n",
       "    <tr>\n",
       "      <th>2</th>\n",
       "      <td>67</td>\n",
       "      <td>13411</td>\n",
       "      <td>3245</td>\n",
       "      <td>Florida</td>\n",
       "      <td>123456</td>\n",
       "    </tr>\n",
       "    <tr>\n",
       "      <th>3</th>\n",
       "      <td>78</td>\n",
       "      <td>14511</td>\n",
       "      <td>1425</td>\n",
       "      <td>New York</td>\n",
       "      <td>1234567</td>\n",
       "    </tr>\n",
       "    <tr>\n",
       "      <th>4</th>\n",
       "      <td>33</td>\n",
       "      <td>15611</td>\n",
       "      <td>6745</td>\n",
       "      <td>California</td>\n",
       "      <td>76543</td>\n",
       "    </tr>\n",
       "    <tr>\n",
       "      <th>5</th>\n",
       "      <td>45</td>\n",
       "      <td>16711</td>\n",
       "      <td>9745</td>\n",
       "      <td>Florida</td>\n",
       "      <td>987654</td>\n",
       "    </tr>\n",
       "    <tr>\n",
       "      <th>6</th>\n",
       "      <td>34</td>\n",
       "      <td>17811</td>\n",
       "      <td>4562</td>\n",
       "      <td>New York</td>\n",
       "      <td>98765</td>\n",
       "    </tr>\n",
       "    <tr>\n",
       "      <th>7</th>\n",
       "      <td>76</td>\n",
       "      <td>18911</td>\n",
       "      <td>2563</td>\n",
       "      <td>California</td>\n",
       "      <td>456743</td>\n",
       "    </tr>\n",
       "    <tr>\n",
       "      <th>8</th>\n",
       "      <td>89</td>\n",
       "      <td>19011</td>\n",
       "      <td>8452</td>\n",
       "      <td>Florida</td>\n",
       "      <td>73823</td>\n",
       "    </tr>\n",
       "    <tr>\n",
       "      <th>9</th>\n",
       "      <td>90</td>\n",
       "      <td>10911</td>\n",
       "      <td>1423</td>\n",
       "      <td>New York</td>\n",
       "      <td>87652</td>\n",
       "    </tr>\n",
       "  </tbody>\n",
       "</table>\n",
       "</div>"
      ],
      "text/plain": [
       "   RnD_Spend:   Administrator :  Marketing_Spend :     State :  Profit :\n",
       "0           26            12111               9876    New York   1345678\n",
       "1           55            12311               9765  California    123456\n",
       "2           67            13411               3245     Florida    123456\n",
       "3           78            14511               1425    New York   1234567\n",
       "4           33            15611               6745  California     76543\n",
       "5           45            16711               9745     Florida    987654\n",
       "6           34            17811               4562    New York     98765\n",
       "7           76            18911               2563  California    456743\n",
       "8           89            19011               8452     Florida     73823\n",
       "9           90            10911               1423    New York     87652"
      ]
     },
     "execution_count": 24,
     "metadata": {},
     "output_type": "execute_result"
    }
   ],
   "source": [
    "data"
   ]
  },
  {
   "cell_type": "code",
   "execution_count": 33,
   "metadata": {},
   "outputs": [],
   "source": [
    "data.to_excel('data_table.xlsx')"
   ]
  },
  {
   "cell_type": "markdown",
   "metadata": {},
   "source": [
    "# Problem 4"
   ]
  },
  {
   "cell_type": "code",
   "execution_count": 37,
   "metadata": {},
   "outputs": [
    {
     "name": "stdout",
     "output_type": "stream",
     "text": [
      "Enter distance value here in Miles: 50\n",
      "Enter time value here in Hours : 2\n",
      "the object is travelling in  25.0 Miles per Hour\n"
     ]
    }
   ],
   "source": [
    "distance = int(input('Enter distance value here in Miles: '))\n",
    "time = int(input('Enter time value here in Hours : '))\n",
    "speed = distance / time \n",
    "print('the object is travelling in ',speed,'Miles per Hour')"
   ]
  },
  {
   "cell_type": "code",
   "execution_count": null,
   "metadata": {},
   "outputs": [],
   "source": []
  }
 ],
 "metadata": {
  "kernelspec": {
   "display_name": "Python 3",
   "language": "python",
   "name": "python3"
  },
  "language_info": {
   "codemirror_mode": {
    "name": "ipython",
    "version": 3
   },
   "file_extension": ".py",
   "mimetype": "text/x-python",
   "name": "python",
   "nbconvert_exporter": "python",
   "pygments_lexer": "ipython3",
   "version": "3.7.3"
  }
 },
 "nbformat": 4,
 "nbformat_minor": 4
}
