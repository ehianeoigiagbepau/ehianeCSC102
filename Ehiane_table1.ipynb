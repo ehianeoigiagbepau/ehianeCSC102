{
 "cells": [
  {
   "cell_type": "markdown",
   "metadata": {},
   "source": [
    "# Step 1: Import Pandas"
   ]
  },
  {
   "cell_type": "code",
   "execution_count": 2,
   "metadata": {},
   "outputs": [],
   "source": [
    "import pandas"
   ]
  },
  {
   "cell_type": "markdown",
   "metadata": {},
   "source": [
    "# Step 2: Declare Variables"
   ]
  },
  {
   "cell_type": "code",
   "execution_count": 32,
   "metadata": {},
   "outputs": [],
   "source": [
    "Names = ['Ann', 'Jane', 'Joan', 'Clare', 'Elizabeth','Charles','Jude','James','Kelvin','Prosper']\n",
    "Age = [14,16,14,17,16,15,16,16,17,14]\n",
    "Height =[5.5,6,5.4,5.9,5.6,5.7,5.9,5.8,6.1,5.9]\n",
    "Scores = [80,85,70,60,76,85,74,87,75,68]\n",
    "Gender = ['F','F','F','F','F','M','M','M','M','M']"
   ]
  },
  {
   "cell_type": "markdown",
   "metadata": {},
   "source": [
    "# Step 3: Create a dictionary object containing the observations"
   ]
  },
  {
   "cell_type": "code",
   "execution_count": 33,
   "metadata": {},
   "outputs": [],
   "source": [
    "tabl = {'Names: ' : Names, 'Age: ':Age, 'Height: ': Height, 'Scores: ': Scores,'Gender: ': Gender}"
   ]
  },
  {
   "cell_type": "code",
   "execution_count": 34,
   "metadata": {},
   "outputs": [
    {
     "data": {
      "text/plain": [
       "{'Names: ': ['Ann',\n",
       "  'Jane',\n",
       "  'Joan',\n",
       "  'Clare',\n",
       "  'Elizabeth',\n",
       "  'Charles',\n",
       "  'Jude',\n",
       "  'James',\n",
       "  'Kelvin',\n",
       "  'Prosper'],\n",
       " 'Age: ': [14, 16, 14, 17, 16, 15, 16, 16, 17, 14],\n",
       " 'Height: ': [5.5, 6, 5.4, 5.9, 5.6, 5.7, 5.9, 5.8, 6.1, 5.9],\n",
       " 'Scores: ': [80, 85, 70, 60, 76, 85, 74, 87, 75, 68],\n",
       " 'Gender: ': ['F', 'F', 'F', 'F', 'F', 'M', 'M', 'M', 'M', 'M']}"
      ]
     },
     "execution_count": 34,
     "metadata": {},
     "output_type": "execute_result"
    }
   ],
   "source": [
    "tabl"
   ]
  },
  {
   "cell_type": "code",
   "execution_count": 35,
   "metadata": {},
   "outputs": [],
   "source": [
    "tabl = pandas.DataFrame(tabl)"
   ]
  },
  {
   "cell_type": "code",
   "execution_count": 36,
   "metadata": {},
   "outputs": [
    {
     "data": {
      "text/html": [
       "<div>\n",
       "<style scoped>\n",
       "    .dataframe tbody tr th:only-of-type {\n",
       "        vertical-align: middle;\n",
       "    }\n",
       "\n",
       "    .dataframe tbody tr th {\n",
       "        vertical-align: top;\n",
       "    }\n",
       "\n",
       "    .dataframe thead th {\n",
       "        text-align: right;\n",
       "    }\n",
       "</style>\n",
       "<table border=\"1\" class=\"dataframe\">\n",
       "  <thead>\n",
       "    <tr style=\"text-align: right;\">\n",
       "      <th></th>\n",
       "      <th>Names:</th>\n",
       "      <th>Age:</th>\n",
       "      <th>Height:</th>\n",
       "      <th>Scores:</th>\n",
       "      <th>Gender:</th>\n",
       "    </tr>\n",
       "  </thead>\n",
       "  <tbody>\n",
       "    <tr>\n",
       "      <th>0</th>\n",
       "      <td>Ann</td>\n",
       "      <td>14</td>\n",
       "      <td>5.5</td>\n",
       "      <td>80</td>\n",
       "      <td>F</td>\n",
       "    </tr>\n",
       "    <tr>\n",
       "      <th>1</th>\n",
       "      <td>Jane</td>\n",
       "      <td>16</td>\n",
       "      <td>6.0</td>\n",
       "      <td>85</td>\n",
       "      <td>F</td>\n",
       "    </tr>\n",
       "    <tr>\n",
       "      <th>2</th>\n",
       "      <td>Joan</td>\n",
       "      <td>14</td>\n",
       "      <td>5.4</td>\n",
       "      <td>70</td>\n",
       "      <td>F</td>\n",
       "    </tr>\n",
       "    <tr>\n",
       "      <th>3</th>\n",
       "      <td>Clare</td>\n",
       "      <td>17</td>\n",
       "      <td>5.9</td>\n",
       "      <td>60</td>\n",
       "      <td>F</td>\n",
       "    </tr>\n",
       "    <tr>\n",
       "      <th>4</th>\n",
       "      <td>Elizabeth</td>\n",
       "      <td>16</td>\n",
       "      <td>5.6</td>\n",
       "      <td>76</td>\n",
       "      <td>F</td>\n",
       "    </tr>\n",
       "    <tr>\n",
       "      <th>5</th>\n",
       "      <td>Charles</td>\n",
       "      <td>15</td>\n",
       "      <td>5.7</td>\n",
       "      <td>85</td>\n",
       "      <td>M</td>\n",
       "    </tr>\n",
       "    <tr>\n",
       "      <th>6</th>\n",
       "      <td>Jude</td>\n",
       "      <td>16</td>\n",
       "      <td>5.9</td>\n",
       "      <td>74</td>\n",
       "      <td>M</td>\n",
       "    </tr>\n",
       "    <tr>\n",
       "      <th>7</th>\n",
       "      <td>James</td>\n",
       "      <td>16</td>\n",
       "      <td>5.8</td>\n",
       "      <td>87</td>\n",
       "      <td>M</td>\n",
       "    </tr>\n",
       "    <tr>\n",
       "      <th>8</th>\n",
       "      <td>Kelvin</td>\n",
       "      <td>17</td>\n",
       "      <td>6.1</td>\n",
       "      <td>75</td>\n",
       "      <td>M</td>\n",
       "    </tr>\n",
       "    <tr>\n",
       "      <th>9</th>\n",
       "      <td>Prosper</td>\n",
       "      <td>14</td>\n",
       "      <td>5.9</td>\n",
       "      <td>68</td>\n",
       "      <td>M</td>\n",
       "    </tr>\n",
       "  </tbody>\n",
       "</table>\n",
       "</div>"
      ],
      "text/plain": [
       "     Names:   Age:   Height:   Scores:  Gender: \n",
       "0        Ann     14       5.5        80        F\n",
       "1       Jane     16       6.0        85        F\n",
       "2       Joan     14       5.4        70        F\n",
       "3      Clare     17       5.9        60        F\n",
       "4  Elizabeth     16       5.6        76        F\n",
       "5    Charles     15       5.7        85        M\n",
       "6       Jude     16       5.9        74        M\n",
       "7      James     16       5.8        87        M\n",
       "8     Kelvin     17       6.1        75        M\n",
       "9    Prosper     14       5.9        68        M"
      ]
     },
     "execution_count": 36,
     "metadata": {},
     "output_type": "execute_result"
    }
   ],
   "source": [
    "tabl"
   ]
  },
  {
   "cell_type": "code",
   "execution_count": 37,
   "metadata": {},
   "outputs": [],
   "source": [
    "tabl.to_excel('tabl.xlsx')"
   ]
  },
  {
   "cell_type": "code",
   "execution_count": null,
   "metadata": {},
   "outputs": [],
   "source": []
  }
 ],
 "metadata": {
  "kernelspec": {
   "display_name": "Python 3",
   "language": "python",
   "name": "python3"
  },
  "language_info": {
   "codemirror_mode": {
    "name": "ipython",
    "version": 3
   },
   "file_extension": ".py",
   "mimetype": "text/x-python",
   "name": "python",
   "nbconvert_exporter": "python",
   "pygments_lexer": "ipython3",
   "version": "3.8.5"
  }
 },
 "nbformat": 4,
 "nbformat_minor": 4
}
