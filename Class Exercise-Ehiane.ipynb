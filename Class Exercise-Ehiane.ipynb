{
 "cells": [
  {
   "cell_type": "markdown",
   "metadata": {},
   "source": [
    "# Exercise I"
   ]
  },
  {
   "cell_type": "code",
   "execution_count": 5,
   "metadata": {},
   "outputs": [
    {
     "name": "stdout",
     "output_type": "stream",
     "text": [
      "Enter a number to generate its pattern = 5\n",
      "1 \n",
      "1 \n",
      "2 \n",
      "1 \n",
      "2 \n",
      "3 \n",
      "1 \n",
      "2 \n",
      "3 \n",
      "4 \n",
      "1 \n",
      "2 \n",
      "3 \n",
      "4 \n",
      "5 \n"
     ]
    }
   ],
   "source": [
    "\n",
    "#The output pattern to be ground to be generated is \n",
    "#1 \n",
    "#1 2\n",
    "#1 2 3\n",
    "#1 2 3 4\n",
    "#1 2 3 4 5\n",
    "num = int(input('Enter a number to generate its pattern = '))\n",
    "for i in range(1,num+1):\n",
    "    for j in range(1,i+1):\n",
    "        print(j, end = ' ')\n",
    "        print()\n"
   ]
  },
  {
   "cell_type": "markdown",
   "metadata": {},
   "source": [
    "# Exercise II"
   ]
  },
  {
   "cell_type": "code",
   "execution_count": 4,
   "metadata": {},
   "outputs": [
    {
     "name": "stdout",
     "output_type": "stream",
     "text": [
      "5 is a prime number\n",
      "7 is a prime number\n",
      "7 is a prime number\n",
      "11 is a prime number\n",
      "11 is a prime number\n",
      "11 is a prime number\n",
      "13 is a prime number\n",
      "13 is a prime number\n",
      "13 is a prime number\n",
      "13 is a prime number\n",
      "17 is a prime number\n",
      "17 is a prime number\n",
      "17 is a prime number\n",
      "17 is a prime number\n",
      "17 is a prime number\n",
      "19 is a prime number\n",
      "19 is a prime number\n",
      "19 is a prime number\n",
      "19 is a prime number\n",
      "19 is a prime number\n",
      "19 is a prime number\n",
      "23 is a prime number\n",
      "23 is a prime number\n",
      "23 is a prime number\n",
      "23 is a prime number\n",
      "23 is a prime number\n",
      "23 is a prime number\n",
      "23 is a prime number\n",
      "23 is a prime number\n",
      "29 is a prime number\n",
      "29 is a prime number\n",
      "29 is a prime number\n",
      "29 is a prime number\n",
      "29 is a prime number\n",
      "29 is a prime number\n",
      "29 is a prime number\n",
      "29 is a prime number\n",
      "29 is a prime number\n",
      "29 is a prime number\n",
      "31 is a prime number\n",
      "31 is a prime number\n",
      "31 is a prime number\n",
      "31 is a prime number\n",
      "31 is a prime number\n",
      "31 is a prime number\n",
      "31 is a prime number\n",
      "31 is a prime number\n",
      "31 is a prime number\n",
      "31 is a prime number\n",
      "31 is a prime number\n",
      "37 is a prime number\n",
      "37 is a prime number\n",
      "37 is a prime number\n",
      "37 is a prime number\n",
      "37 is a prime number\n",
      "37 is a prime number\n",
      "37 is a prime number\n",
      "37 is a prime number\n",
      "37 is a prime number\n",
      "37 is a prime number\n",
      "37 is a prime number\n",
      "37 is a prime number\n",
      "37 is a prime number\n",
      "41 is a prime number\n",
      "41 is a prime number\n",
      "41 is a prime number\n",
      "41 is a prime number\n",
      "41 is a prime number\n",
      "41 is a prime number\n",
      "41 is a prime number\n",
      "41 is a prime number\n",
      "41 is a prime number\n",
      "41 is a prime number\n",
      "41 is a prime number\n",
      "41 is a prime number\n",
      "41 is a prime number\n",
      "41 is a prime number\n",
      "41 is a prime number\n",
      "43 is a prime number\n",
      "43 is a prime number\n",
      "43 is a prime number\n",
      "43 is a prime number\n",
      "43 is a prime number\n",
      "43 is a prime number\n",
      "43 is a prime number\n",
      "43 is a prime number\n",
      "43 is a prime number\n",
      "43 is a prime number\n",
      "43 is a prime number\n",
      "43 is a prime number\n",
      "43 is a prime number\n",
      "43 is a prime number\n",
      "43 is a prime number\n",
      "43 is a prime number\n",
      "47 is a prime number\n",
      "47 is a prime number\n",
      "47 is a prime number\n",
      "47 is a prime number\n",
      "47 is a prime number\n",
      "47 is a prime number\n",
      "47 is a prime number\n",
      "47 is a prime number\n",
      "47 is a prime number\n",
      "47 is a prime number\n",
      "47 is a prime number\n",
      "47 is a prime number\n",
      "47 is a prime number\n",
      "47 is a prime number\n",
      "47 is a prime number\n",
      "47 is a prime number\n",
      "47 is a prime number\n",
      "47 is a prime number\n",
      "bye bye!!\n"
     ]
    }
   ],
   "source": [
    "# use of nested loops to find the prime numbers between 2 to 50 \n",
    "num = 2\n",
    "for i in range(2,50):\n",
    "    j=2\n",
    "    while (j <= (i/2)):\n",
    "        if (i% j == 0): #factor found\n",
    "            break #break out while loop\n",
    "        j +=1\n",
    "        if(j>i/j): #no factor found\n",
    "            print(i,'is a prime number')\n",
    "print('bye bye!!')"
   ]
  },
  {
   "cell_type": "markdown",
   "metadata": {},
   "source": [
    "# Exercise III"
   ]
  },
  {
   "cell_type": "code",
   "execution_count": 7,
   "metadata": {},
   "outputs": [
    {
     "name": "stdout",
     "output_type": "stream",
     "text": [
      "Enter a number: 2\n",
      "factorial of  2 is  1\n"
     ]
    }
   ],
   "source": [
    "#the following program uses a for loop nested inside an if...else\n",
    "#block to calculate the factorial of aa given number.\n",
    "num= int(input('Enter a number: '))\n",
    "fact= 1\n",
    "#check if the number is negative, positive or zero\n",
    "if num < 0:\n",
    "    print('sorry, factorial does not exist for a nrgative numbers ')\n",
    "elif num ==0:\n",
    "    print('the factorial of 0 is 1')\n",
    "else:\n",
    "    for i in range(1, num+1):\n",
    "        fact*=1\n",
    "    print('factorial of ', num, 'is ', fact)"
   ]
  },
  {
   "cell_type": "code",
   "execution_count": 9,
   "metadata": {},
   "outputs": [
    {
     "name": "stdout",
     "output_type": "stream",
     "text": [
      "Enter the number to be checked: 2\n",
      "2 is a prime number\n"
     ]
    }
   ],
   "source": [
    "#Write a python program to check if a given number is prime or not.\n",
    "num = int(input('Enter the number to be checked: '))\n",
    "flag = 0 #presume num is a prime number \n",
    "if num > 1:\n",
    "    for i in range(2, int(num / 2)):\n",
    "        if (num % i==0):\n",
    "            flag= 1 #num is not prime number\n",
    "            break #no need to check further\n",
    "    if flag==1:\n",
    "        print(num, 'is not a prime number ')\n",
    "    else:\n",
    "        print(num , 'is a prime number')\n",
    "else:\n",
    "    print('Entered number is <= 1, execute again!')"
   ]
  },
  {
   "cell_type": "markdown",
   "metadata": {},
   "source": [
    "# Exercise V"
   ]
  },
  {
   "cell_type": "code",
   "execution_count": 10,
   "metadata": {},
   "outputs": [
    {
     "name": "stdout",
     "output_type": "stream",
     "text": [
      "Enter a number to find its factor: 3\n",
      "1 3 "
     ]
    }
   ],
   "source": [
    "#find the factors of a number using while loop\n",
    "\n",
    "num= int(input('Enter a number to find its factor: '))\n",
    "print(1, end= ' ')#1 is a factor of every number\n",
    "factor = 2\n",
    "while factor <= num/2:\n",
    "    if num % factor == 0:\n",
    "#the optional paramter end of print function specifies the delimeter\n",
    "#blank space(' ') to print next value on same line\n",
    "        print(factor, end=' ')\n",
    "    factor+=1\n",
    "print(num, end=' ')#every number is a factor of itself\n"
   ]
  },
  {
   "cell_type": "code",
   "execution_count": null,
   "metadata": {},
   "outputs": [],
   "source": []
  }
 ],
 "metadata": {
  "kernelspec": {
   "display_name": "Python 3",
   "language": "python",
   "name": "python3"
  },
  "language_info": {
   "codemirror_mode": {
    "name": "ipython",
    "version": 3
   },
   "file_extension": ".py",
   "mimetype": "text/x-python",
   "name": "python",
   "nbconvert_exporter": "python",
   "pygments_lexer": "ipython3",
   "version": "3.7.3"
  }
 },
 "nbformat": 4,
 "nbformat_minor": 2
}
